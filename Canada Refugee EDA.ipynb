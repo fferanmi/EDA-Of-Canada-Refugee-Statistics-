{
 "cells": [
  {
   "cell_type": "markdown",
   "id": "a67cb4f0",
   "metadata": {},
   "source": [
    "# Canada Refugee Statistics Exploratory Data Analysis¶"
   ]
  },
  {
   "cell_type": "markdown",
   "id": "1b94b400",
   "metadata": {},
   "source": [
    "## Import libraries"
   ]
  },
  {
   "cell_type": "code",
   "execution_count": 1,
   "id": "713b71fa",
   "metadata": {},
   "outputs": [],
   "source": [
    "import numpy as np\n",
    "import pandas as pd\n",
    "import matplotlib.pyplot as plt \n",
    "import seaborn as sns"
   ]
  },
  {
   "cell_type": "code",
   "execution_count": 38,
   "id": "5aac25f8",
   "metadata": {},
   "outputs": [],
   "source": [
    "#function to add labels\n",
    "\n",
    "def addlabels(x,y):\n",
    "    for i in range(len(x)):\n",
    "        plt.text(i,y[i],y[i], ha=\"center\")"
   ]
  },
  {
   "cell_type": "markdown",
   "id": "75d82e5d",
   "metadata": {},
   "source": [
    "### Load the dataset"
   ]
  },
  {
   "cell_type": "code",
   "execution_count": 2,
   "id": "57fce157",
   "metadata": {},
   "outputs": [],
   "source": [
    "# Load the dataset into dataframe\n",
    "df = pd.read_csv(\"can-stats-2012-22.csv\")"
   ]
  },
  {
   "cell_type": "code",
   "execution_count": 3,
   "id": "bafe4fbe",
   "metadata": {},
   "outputs": [
    {
     "data": {
      "text/html": [
       "<div>\n",
       "<style scoped>\n",
       "    .dataframe tbody tr th:only-of-type {\n",
       "        vertical-align: middle;\n",
       "    }\n",
       "\n",
       "    .dataframe tbody tr th {\n",
       "        vertical-align: top;\n",
       "    }\n",
       "\n",
       "    .dataframe thead th {\n",
       "        text-align: right;\n",
       "    }\n",
       "</style>\n",
       "<table border=\"1\" class=\"dataframe\">\n",
       "  <thead>\n",
       "    <tr style=\"text-align: right;\">\n",
       "      <th></th>\n",
       "      <th>Year</th>\n",
       "      <th>Country-of-origin</th>\n",
       "      <th>UNHCR-refugees</th>\n",
       "      <th>Asylum-seekers</th>\n",
       "      <th>total-count</th>\n",
       "    </tr>\n",
       "  </thead>\n",
       "  <tbody>\n",
       "    <tr>\n",
       "      <th>0</th>\n",
       "      <td>2012</td>\n",
       "      <td>Afghanistan</td>\n",
       "      <td>2609</td>\n",
       "      <td>411</td>\n",
       "      <td>3020</td>\n",
       "    </tr>\n",
       "    <tr>\n",
       "      <th>1</th>\n",
       "      <td>2012</td>\n",
       "      <td>Albania</td>\n",
       "      <td>1764</td>\n",
       "      <td>579</td>\n",
       "      <td>2343</td>\n",
       "    </tr>\n",
       "    <tr>\n",
       "      <th>2</th>\n",
       "      <td>2012</td>\n",
       "      <td>Algeria</td>\n",
       "      <td>513</td>\n",
       "      <td>284</td>\n",
       "      <td>797</td>\n",
       "    </tr>\n",
       "    <tr>\n",
       "      <th>3</th>\n",
       "      <td>2012</td>\n",
       "      <td>Angola</td>\n",
       "      <td>753</td>\n",
       "      <td>21</td>\n",
       "      <td>774</td>\n",
       "    </tr>\n",
       "    <tr>\n",
       "      <th>4</th>\n",
       "      <td>2012</td>\n",
       "      <td>Antigua and Barbuda</td>\n",
       "      <td>40</td>\n",
       "      <td>30</td>\n",
       "      <td>70</td>\n",
       "    </tr>\n",
       "    <tr>\n",
       "      <th>...</th>\n",
       "      <td>...</td>\n",
       "      <td>...</td>\n",
       "      <td>...</td>\n",
       "      <td>...</td>\n",
       "      <td>...</td>\n",
       "    </tr>\n",
       "    <tr>\n",
       "      <th>1865</th>\n",
       "      <td>2022</td>\n",
       "      <td>Venezuela (Bolivarian Republic of)</td>\n",
       "      <td>1497</td>\n",
       "      <td>2104</td>\n",
       "      <td>3601</td>\n",
       "    </tr>\n",
       "    <tr>\n",
       "      <th>1866</th>\n",
       "      <td>2022</td>\n",
       "      <td>Western Sahara</td>\n",
       "      <td>5</td>\n",
       "      <td>0</td>\n",
       "      <td>5</td>\n",
       "    </tr>\n",
       "    <tr>\n",
       "      <th>1867</th>\n",
       "      <td>2022</td>\n",
       "      <td>Yemen</td>\n",
       "      <td>450</td>\n",
       "      <td>452</td>\n",
       "      <td>902</td>\n",
       "    </tr>\n",
       "    <tr>\n",
       "      <th>1868</th>\n",
       "      <td>2022</td>\n",
       "      <td>Zambia</td>\n",
       "      <td>23</td>\n",
       "      <td>25</td>\n",
       "      <td>48</td>\n",
       "    </tr>\n",
       "    <tr>\n",
       "      <th>1869</th>\n",
       "      <td>2022</td>\n",
       "      <td>Zimbabwe</td>\n",
       "      <td>309</td>\n",
       "      <td>562</td>\n",
       "      <td>871</td>\n",
       "    </tr>\n",
       "  </tbody>\n",
       "</table>\n",
       "<p>1870 rows × 5 columns</p>\n",
       "</div>"
      ],
      "text/plain": [
       "      Year                   Country-of-origin  UNHCR-refugees  \\\n",
       "0     2012                         Afghanistan            2609   \n",
       "1     2012                             Albania            1764   \n",
       "2     2012                             Algeria             513   \n",
       "3     2012                              Angola             753   \n",
       "4     2012                 Antigua and Barbuda              40   \n",
       "...    ...                                 ...             ...   \n",
       "1865  2022  Venezuela (Bolivarian Republic of)            1497   \n",
       "1866  2022                      Western Sahara               5   \n",
       "1867  2022                               Yemen             450   \n",
       "1868  2022                              Zambia              23   \n",
       "1869  2022                            Zimbabwe             309   \n",
       "\n",
       "      Asylum-seekers  total-count  \n",
       "0                411         3020  \n",
       "1                579         2343  \n",
       "2                284          797  \n",
       "3                 21          774  \n",
       "4                 30           70  \n",
       "...              ...          ...  \n",
       "1865            2104         3601  \n",
       "1866               0            5  \n",
       "1867             452          902  \n",
       "1868              25           48  \n",
       "1869             562          871  \n",
       "\n",
       "[1870 rows x 5 columns]"
      ]
     },
     "execution_count": 3,
     "metadata": {},
     "output_type": "execute_result"
    }
   ],
   "source": [
    "df"
   ]
  },
  {
   "cell_type": "markdown",
   "id": "9fb75022",
   "metadata": {},
   "source": [
    "## Explore the dataset"
   ]
  },
  {
   "cell_type": "code",
   "execution_count": 4,
   "id": "1be683ce",
   "metadata": {},
   "outputs": [
    {
     "name": "stdout",
     "output_type": "stream",
     "text": [
      "The shape of the dataframe is (1870, 5)\n"
     ]
    }
   ],
   "source": [
    "df.shape\n",
    "print(f\"The shape of the dataframe is {df.shape}\")"
   ]
  },
  {
   "cell_type": "markdown",
   "id": "569b5be8",
   "metadata": {},
   "source": [
    "**The dataset contains 1870 columns and 5 rows.**"
   ]
  },
  {
   "cell_type": "code",
   "execution_count": 5,
   "id": "c110c2be",
   "metadata": {
    "scrolled": true
   },
   "outputs": [
    {
     "name": "stdout",
     "output_type": "stream",
     "text": [
      "<class 'pandas.core.frame.DataFrame'>\n",
      "RangeIndex: 1870 entries, 0 to 1869\n",
      "Data columns (total 5 columns):\n",
      " #   Column             Non-Null Count  Dtype \n",
      "---  ------             --------------  ----- \n",
      " 0   Year               1870 non-null   int64 \n",
      " 1   Country-of-origin  1870 non-null   object\n",
      " 2   UNHCR-refugees     1870 non-null   int64 \n",
      " 3   Asylum-seekers     1870 non-null   int64 \n",
      " 4   total-count        1870 non-null   int64 \n",
      "dtypes: int64(4), object(1)\n",
      "memory usage: 73.2+ KB\n"
     ]
    }
   ],
   "source": [
    "df.info()"
   ]
  },
  {
   "cell_type": "code",
   "execution_count": 25,
   "id": "30649e0a",
   "metadata": {},
   "outputs": [
    {
     "data": {
      "text/html": [
       "<div>\n",
       "<style scoped>\n",
       "    .dataframe tbody tr th:only-of-type {\n",
       "        vertical-align: middle;\n",
       "    }\n",
       "\n",
       "    .dataframe tbody tr th {\n",
       "        vertical-align: top;\n",
       "    }\n",
       "\n",
       "    .dataframe thead th {\n",
       "        text-align: right;\n",
       "    }\n",
       "</style>\n",
       "<table border=\"1\" class=\"dataframe\">\n",
       "  <thead>\n",
       "    <tr style=\"text-align: right;\">\n",
       "      <th></th>\n",
       "      <th>Missing Values</th>\n",
       "    </tr>\n",
       "  </thead>\n",
       "  <tbody>\n",
       "    <tr>\n",
       "      <th>Year</th>\n",
       "      <td>0</td>\n",
       "    </tr>\n",
       "    <tr>\n",
       "      <th>Country-of-origin</th>\n",
       "      <td>0</td>\n",
       "    </tr>\n",
       "    <tr>\n",
       "      <th>UNHCR-refugees</th>\n",
       "      <td>0</td>\n",
       "    </tr>\n",
       "    <tr>\n",
       "      <th>Asylum-seekers</th>\n",
       "      <td>0</td>\n",
       "    </tr>\n",
       "    <tr>\n",
       "      <th>total-count</th>\n",
       "      <td>0</td>\n",
       "    </tr>\n",
       "  </tbody>\n",
       "</table>\n",
       "</div>"
      ],
      "text/plain": [
       "                   Missing Values\n",
       "Year                            0\n",
       "Country-of-origin               0\n",
       "UNHCR-refugees                  0\n",
       "Asylum-seekers                  0\n",
       "total-count                     0"
      ]
     },
     "execution_count": 25,
     "metadata": {},
     "output_type": "execute_result"
    }
   ],
   "source": [
    "pd.DataFrame(df.isnull().sum(),columns=[\"Missing Values\"])"
   ]
  },
  {
   "cell_type": "code",
   "execution_count": 6,
   "id": "ef6e4579",
   "metadata": {},
   "outputs": [
    {
     "name": "stdout",
     "output_type": "stream",
     "text": [
      "The number of countries in the dataset are 184\n"
     ]
    }
   ],
   "source": [
    "No_of_Country = df[\"Country-of-origin\"].nunique()\n",
    "print (f\"The number of countries in the dataset are {No_of_Country}\")"
   ]
  },
  {
   "cell_type": "markdown",
   "id": "6d18d3e4",
   "metadata": {},
   "source": [
    "**REMARKS**\n",
    "\n",
    "**1. All the data types are appropraite**\n",
    "**2. There are no missing values in the dataset**\n"
   ]
  },
  {
   "cell_type": "code",
   "execution_count": 7,
   "id": "fd30e363",
   "metadata": {},
   "outputs": [
    {
     "data": {
      "text/html": [
       "<div>\n",
       "<style scoped>\n",
       "    .dataframe tbody tr th:only-of-type {\n",
       "        vertical-align: middle;\n",
       "    }\n",
       "\n",
       "    .dataframe tbody tr th {\n",
       "        vertical-align: top;\n",
       "    }\n",
       "\n",
       "    .dataframe thead th {\n",
       "        text-align: right;\n",
       "    }\n",
       "</style>\n",
       "<table border=\"1\" class=\"dataframe\">\n",
       "  <thead>\n",
       "    <tr style=\"text-align: right;\">\n",
       "      <th></th>\n",
       "      <th>Year</th>\n",
       "      <th>Country-of-origin</th>\n",
       "      <th>UNHCR-refugees</th>\n",
       "      <th>Asylum-seekers</th>\n",
       "      <th>total-count</th>\n",
       "    </tr>\n",
       "  </thead>\n",
       "  <tbody>\n",
       "    <tr>\n",
       "      <th>1364</th>\n",
       "      <td>2019</td>\n",
       "      <td>Tunisia</td>\n",
       "      <td>171</td>\n",
       "      <td>149</td>\n",
       "      <td>320</td>\n",
       "    </tr>\n",
       "    <tr>\n",
       "      <th>1608</th>\n",
       "      <td>2021</td>\n",
       "      <td>Jamaica</td>\n",
       "      <td>824</td>\n",
       "      <td>390</td>\n",
       "      <td>1214</td>\n",
       "    </tr>\n",
       "    <tr>\n",
       "      <th>1406</th>\n",
       "      <td>2020</td>\n",
       "      <td>Cameroon</td>\n",
       "      <td>964</td>\n",
       "      <td>611</td>\n",
       "      <td>1575</td>\n",
       "    </tr>\n",
       "    <tr>\n",
       "      <th>417</th>\n",
       "      <td>2014</td>\n",
       "      <td>India</td>\n",
       "      <td>4292</td>\n",
       "      <td>187</td>\n",
       "      <td>4479</td>\n",
       "    </tr>\n",
       "    <tr>\n",
       "      <th>990</th>\n",
       "      <td>2017</td>\n",
       "      <td>El Salvador</td>\n",
       "      <td>1354</td>\n",
       "      <td>629</td>\n",
       "      <td>1983</td>\n",
       "    </tr>\n",
       "  </tbody>\n",
       "</table>\n",
       "</div>"
      ],
      "text/plain": [
       "      Year Country-of-origin  UNHCR-refugees  Asylum-seekers  total-count\n",
       "1364  2019           Tunisia             171             149          320\n",
       "1608  2021           Jamaica             824             390         1214\n",
       "1406  2020          Cameroon             964             611         1575\n",
       "417   2014             India            4292             187         4479\n",
       "990   2017       El Salvador            1354             629         1983"
      ]
     },
     "execution_count": 7,
     "metadata": {},
     "output_type": "execute_result"
    }
   ],
   "source": [
    "df.sample(5)"
   ]
  },
  {
   "cell_type": "code",
   "execution_count": 8,
   "id": "a875fb29",
   "metadata": {},
   "outputs": [
    {
     "name": "stdout",
     "output_type": "stream",
     "text": [
      "The dataset contains 5 columns\n",
      "Index(['Year', 'Country-of-origin', 'UNHCR-refugees', 'Asylum-seekers',\n",
      "       'total-count'],\n",
      "      dtype='object')\n"
     ]
    }
   ],
   "source": [
    "df.columns\n",
    "print(\"The dataset contains 5 columns\")\n",
    "print(df.columns)"
   ]
  },
  {
   "cell_type": "markdown",
   "id": "8afe58bd",
   "metadata": {},
   "source": [
    "## Checking for duplicate values"
   ]
  },
  {
   "cell_type": "code",
   "execution_count": 9,
   "id": "dc1596bd",
   "metadata": {},
   "outputs": [
    {
     "data": {
      "text/plain": [
       "0"
      ]
     },
     "execution_count": 9,
     "metadata": {},
     "output_type": "execute_result"
    }
   ],
   "source": [
    "df.duplicated().sum()"
   ]
  },
  {
   "cell_type": "markdown",
   "id": "c7d184f8",
   "metadata": {},
   "source": [
    "**There are no duplicate values in the dataset**"
   ]
  },
  {
   "cell_type": "markdown",
   "id": "e478ec92",
   "metadata": {},
   "source": [
    "## EXPLORATORY DATA ANALYSIS"
   ]
  },
  {
   "cell_type": "code",
   "execution_count": 10,
   "id": "0066dae4",
   "metadata": {},
   "outputs": [
    {
     "data": {
      "text/html": [
       "<div>\n",
       "<style scoped>\n",
       "    .dataframe tbody tr th:only-of-type {\n",
       "        vertical-align: middle;\n",
       "    }\n",
       "\n",
       "    .dataframe tbody tr th {\n",
       "        vertical-align: top;\n",
       "    }\n",
       "\n",
       "    .dataframe thead th {\n",
       "        text-align: right;\n",
       "    }\n",
       "</style>\n",
       "<table border=\"1\" class=\"dataframe\">\n",
       "  <thead>\n",
       "    <tr style=\"text-align: right;\">\n",
       "      <th></th>\n",
       "      <th>count</th>\n",
       "      <th>mean</th>\n",
       "      <th>std</th>\n",
       "      <th>min</th>\n",
       "      <th>25%</th>\n",
       "      <th>50%</th>\n",
       "      <th>75%</th>\n",
       "      <th>max</th>\n",
       "    </tr>\n",
       "  </thead>\n",
       "  <tbody>\n",
       "    <tr>\n",
       "      <th>Year</th>\n",
       "      <td>1870.0</td>\n",
       "      <td>2016.955615</td>\n",
       "      <td>3.167123</td>\n",
       "      <td>2012.0</td>\n",
       "      <td>2014.00</td>\n",
       "      <td>2017.0</td>\n",
       "      <td>2020.00</td>\n",
       "      <td>2022.0</td>\n",
       "    </tr>\n",
       "    <tr>\n",
       "      <th>UNHCR-refugees</th>\n",
       "      <td>1870.0</td>\n",
       "      <td>752.438503</td>\n",
       "      <td>2427.738942</td>\n",
       "      <td>0.0</td>\n",
       "      <td>20.00</td>\n",
       "      <td>124.0</td>\n",
       "      <td>563.75</td>\n",
       "      <td>75098.0</td>\n",
       "    </tr>\n",
       "    <tr>\n",
       "      <th>Asylum-seekers</th>\n",
       "      <td>1870.0</td>\n",
       "      <td>323.139572</td>\n",
       "      <td>1181.143362</td>\n",
       "      <td>0.0</td>\n",
       "      <td>7.00</td>\n",
       "      <td>36.0</td>\n",
       "      <td>195.25</td>\n",
       "      <td>19765.0</td>\n",
       "    </tr>\n",
       "    <tr>\n",
       "      <th>total-count</th>\n",
       "      <td>1870.0</td>\n",
       "      <td>1075.578075</td>\n",
       "      <td>2980.751399</td>\n",
       "      <td>0.0</td>\n",
       "      <td>39.25</td>\n",
       "      <td>187.0</td>\n",
       "      <td>889.75</td>\n",
       "      <td>75294.0</td>\n",
       "    </tr>\n",
       "  </tbody>\n",
       "</table>\n",
       "</div>"
      ],
      "text/plain": [
       "                 count         mean          std     min      25%     50%  \\\n",
       "Year            1870.0  2016.955615     3.167123  2012.0  2014.00  2017.0   \n",
       "UNHCR-refugees  1870.0   752.438503  2427.738942     0.0    20.00   124.0   \n",
       "Asylum-seekers  1870.0   323.139572  1181.143362     0.0     7.00    36.0   \n",
       "total-count     1870.0  1075.578075  2980.751399     0.0    39.25   187.0   \n",
       "\n",
       "                    75%      max  \n",
       "Year            2020.00   2022.0  \n",
       "UNHCR-refugees   563.75  75098.0  \n",
       "Asylum-seekers   195.25  19765.0  \n",
       "total-count      889.75  75294.0  "
      ]
     },
     "execution_count": 10,
     "metadata": {},
     "output_type": "execute_result"
    }
   ],
   "source": [
    "df.describe().T"
   ]
  },
  {
   "cell_type": "markdown",
   "id": "9e3e0f6e",
   "metadata": {},
   "source": [
    "### OBSERVATIONS\n",
    "1. There is a total of 1870 records.\n",
    "2. The dataset is between 2012 to 2022.\n",
    "3. The average number of refugees between 2012 to 2022 is 752.438503\n",
    "4. The maximum number of refugees accepted within a year is 75098 \n",
    "5. The average number of asylum seekers between 2012 to 2022 is 323.139572\n",
    "6. The maximum number of asylum seekers within a year is 19765\n"
   ]
  },
  {
   "cell_type": "code",
   "execution_count": 11,
   "id": "49b03b95",
   "metadata": {
    "scrolled": true
   },
   "outputs": [
    {
     "name": "stderr",
     "output_type": "stream",
     "text": [
      "C:\\Users\\home\\AppData\\Local\\Temp\\ipykernel_4912\\671898234.py:2: FutureWarning: The default value of numeric_only in DataFrame.corr is deprecated. In a future version, it will default to False. Select only valid columns or specify the value of numeric_only to silence this warning.\n",
      "  df.corr()\n"
     ]
    },
    {
     "data": {
      "text/html": [
       "<div>\n",
       "<style scoped>\n",
       "    .dataframe tbody tr th:only-of-type {\n",
       "        vertical-align: middle;\n",
       "    }\n",
       "\n",
       "    .dataframe tbody tr th {\n",
       "        vertical-align: top;\n",
       "    }\n",
       "\n",
       "    .dataframe thead th {\n",
       "        text-align: right;\n",
       "    }\n",
       "</style>\n",
       "<table border=\"1\" class=\"dataframe\">\n",
       "  <thead>\n",
       "    <tr style=\"text-align: right;\">\n",
       "      <th></th>\n",
       "      <th>Year</th>\n",
       "      <th>UNHCR-refugees</th>\n",
       "      <th>Asylum-seekers</th>\n",
       "      <th>total-count</th>\n",
       "    </tr>\n",
       "  </thead>\n",
       "  <tbody>\n",
       "    <tr>\n",
       "      <th>Year</th>\n",
       "      <td>1.000000</td>\n",
       "      <td>-0.024037</td>\n",
       "      <td>0.144239</td>\n",
       "      <td>0.037578</td>\n",
       "    </tr>\n",
       "    <tr>\n",
       "      <th>UNHCR-refugees</th>\n",
       "      <td>-0.024037</td>\n",
       "      <td>1.000000</td>\n",
       "      <td>0.278267</td>\n",
       "      <td>0.924737</td>\n",
       "    </tr>\n",
       "    <tr>\n",
       "      <th>Asylum-seekers</th>\n",
       "      <td>0.144239</td>\n",
       "      <td>0.278267</td>\n",
       "      <td>1.000000</td>\n",
       "      <td>0.622897</td>\n",
       "    </tr>\n",
       "    <tr>\n",
       "      <th>total-count</th>\n",
       "      <td>0.037578</td>\n",
       "      <td>0.924737</td>\n",
       "      <td>0.622897</td>\n",
       "      <td>1.000000</td>\n",
       "    </tr>\n",
       "  </tbody>\n",
       "</table>\n",
       "</div>"
      ],
      "text/plain": [
       "                    Year  UNHCR-refugees  Asylum-seekers  total-count\n",
       "Year            1.000000       -0.024037        0.144239     0.037578\n",
       "UNHCR-refugees -0.024037        1.000000        0.278267     0.924737\n",
       "Asylum-seekers  0.144239        0.278267        1.000000     0.622897\n",
       "total-count     0.037578        0.924737        0.622897     1.000000"
      ]
     },
     "execution_count": 11,
     "metadata": {},
     "output_type": "execute_result"
    }
   ],
   "source": [
    "# TO CHECK THE CORRELATION COEFFICIENTS\n",
    "df.corr()"
   ]
  },
  {
   "cell_type": "markdown",
   "id": "b04b8516",
   "metadata": {},
   "source": [
    "### OBSERVATIONS\n",
    "1. There is a slightly positive correlation between Number of refugees and asylum seekers, which could mean, the more the number of number of asylum seekers, the more number of refugees.\n",
    "2. There is a slightly positive correlation between year and asylum seekers, which could mean, the asylum seekers increase with the year.\n",
    " "
   ]
  },
  {
   "cell_type": "markdown",
   "id": "128166ce",
   "metadata": {},
   "source": [
    "## ANALYSIS QUESTIONS"
   ]
  },
  {
   "cell_type": "markdown",
   "id": "024407d6",
   "metadata": {},
   "source": [
    "## Question 1\n",
    "From which countries has Canada admitted the highest number of refugees?\n",
    "\n",
    "**From Colombia(108416), followed by China(98586), then Ukraine(88376), Pakistan(74737) and Haiti(70956).**"
   ]
  },
  {
   "cell_type": "code",
   "execution_count": 29,
   "id": "a190a7b4",
   "metadata": {},
   "outputs": [
    {
     "data": {
      "text/html": [
       "<div>\n",
       "<style scoped>\n",
       "    .dataframe tbody tr th:only-of-type {\n",
       "        vertical-align: middle;\n",
       "    }\n",
       "\n",
       "    .dataframe tbody tr th {\n",
       "        vertical-align: top;\n",
       "    }\n",
       "\n",
       "    .dataframe thead th {\n",
       "        text-align: right;\n",
       "    }\n",
       "</style>\n",
       "<table border=\"1\" class=\"dataframe\">\n",
       "  <thead>\n",
       "    <tr style=\"text-align: right;\">\n",
       "      <th></th>\n",
       "      <th>Country-of-origin</th>\n",
       "      <th>UNHCR-refugees</th>\n",
       "    </tr>\n",
       "  </thead>\n",
       "  <tbody>\n",
       "    <tr>\n",
       "      <th>0</th>\n",
       "      <td>Colombia</td>\n",
       "      <td>108416</td>\n",
       "    </tr>\n",
       "    <tr>\n",
       "      <th>1</th>\n",
       "      <td>China</td>\n",
       "      <td>98586</td>\n",
       "    </tr>\n",
       "    <tr>\n",
       "      <th>2</th>\n",
       "      <td>Ukraine</td>\n",
       "      <td>88376</td>\n",
       "    </tr>\n",
       "    <tr>\n",
       "      <th>3</th>\n",
       "      <td>Pakistan</td>\n",
       "      <td>74737</td>\n",
       "    </tr>\n",
       "    <tr>\n",
       "      <th>4</th>\n",
       "      <td>Haiti</td>\n",
       "      <td>70956</td>\n",
       "    </tr>\n",
       "  </tbody>\n",
       "</table>\n",
       "</div>"
      ],
      "text/plain": [
       "  Country-of-origin  UNHCR-refugees\n",
       "0          Colombia          108416\n",
       "1             China           98586\n",
       "2           Ukraine           88376\n",
       "3          Pakistan           74737\n",
       "4             Haiti           70956"
      ]
     },
     "execution_count": 29,
     "metadata": {},
     "output_type": "execute_result"
    }
   ],
   "source": [
    "# REFUGEES BY COUNTRY\n",
    "df_refugees = (df[\"UNHCR-refugees\"].groupby(by = df[\"Country-of-origin\"])\n",
    "             .sum().sort_values(ascending = False)[0:5])\n",
    "df_refugees.reset_index()"
   ]
  },
  {
   "cell_type": "code",
   "execution_count": 30,
   "id": "17ee3e25",
   "metadata": {},
   "outputs": [
    {
     "data": {
      "text/html": [
       "<div>\n",
       "<style scoped>\n",
       "    .dataframe tbody tr th:only-of-type {\n",
       "        vertical-align: middle;\n",
       "    }\n",
       "\n",
       "    .dataframe tbody tr th {\n",
       "        vertical-align: top;\n",
       "    }\n",
       "\n",
       "    .dataframe thead th {\n",
       "        text-align: right;\n",
       "    }\n",
       "</style>\n",
       "<table border=\"1\" class=\"dataframe\">\n",
       "  <thead>\n",
       "    <tr style=\"text-align: right;\">\n",
       "      <th></th>\n",
       "      <th>Country-of-origin</th>\n",
       "      <th>UNHCR-refugees</th>\n",
       "    </tr>\n",
       "  </thead>\n",
       "  <tbody>\n",
       "    <tr>\n",
       "      <th>0</th>\n",
       "      <td>Colombia</td>\n",
       "      <td>24.580170</td>\n",
       "    </tr>\n",
       "    <tr>\n",
       "      <th>1</th>\n",
       "      <td>China</td>\n",
       "      <td>22.351503</td>\n",
       "    </tr>\n",
       "    <tr>\n",
       "      <th>2</th>\n",
       "      <td>Ukraine</td>\n",
       "      <td>20.036683</td>\n",
       "    </tr>\n",
       "    <tr>\n",
       "      <th>3</th>\n",
       "      <td>Pakistan</td>\n",
       "      <td>16.944438</td>\n",
       "    </tr>\n",
       "    <tr>\n",
       "      <th>4</th>\n",
       "      <td>Haiti</td>\n",
       "      <td>16.087206</td>\n",
       "    </tr>\n",
       "  </tbody>\n",
       "</table>\n",
       "</div>"
      ],
      "text/plain": [
       "  Country-of-origin  UNHCR-refugees\n",
       "0          Colombia       24.580170\n",
       "1             China       22.351503\n",
       "2           Ukraine       20.036683\n",
       "3          Pakistan       16.944438\n",
       "4             Haiti       16.087206"
      ]
     },
     "execution_count": 30,
     "metadata": {},
     "output_type": "execute_result"
    }
   ],
   "source": [
    "percent_df_refugees = df_refugees/df_refugees.sum()*100\n",
    "percent_df_refugees.reset_index()"
   ]
  },
  {
   "cell_type": "code",
   "execution_count": 31,
   "id": "05b61b45",
   "metadata": {},
   "outputs": [
    {
     "data": {
      "image/png": "[encoded data removed]",
      "text/plain": [
       "<Figure size 640x480 with 1 Axes>"
      ]
     },
     "metadata": {},
     "output_type": "display_data"
    }
   ],
   "source": [
    "keys = ['Colombia (24.58%)','China (22.35%)','Ukraine (20.04)','Pakistan (16.94%)','Haiti (16.09%)']\n",
    "\n",
    "plt.pie(df_refugees, labels = keys, radius = 0.9, wedgeprops = dict(width=0.5))\n",
    "plt.title ('Top 5 countries with highest number of Refugees');"
   ]
  },
  {
   "cell_type": "markdown",
   "id": "86d4a4af",
   "metadata": {},
   "source": [
    "## Question 2 \n",
    "What are the total number of resettled refugees in Canada per year?"
   ]
  },
  {
   "cell_type": "code",
   "execution_count": 33,
   "id": "46c402af",
   "metadata": {},
   "outputs": [
    {
     "data": {
      "text/html": [
       "<div>\n",
       "<style scoped>\n",
       "    .dataframe tbody tr th:only-of-type {\n",
       "        vertical-align: middle;\n",
       "    }\n",
       "\n",
       "    .dataframe tbody tr th {\n",
       "        vertical-align: top;\n",
       "    }\n",
       "\n",
       "    .dataframe thead th {\n",
       "        text-align: right;\n",
       "    }\n",
       "</style>\n",
       "<table border=\"1\" class=\"dataframe\">\n",
       "  <thead>\n",
       "    <tr style=\"text-align: right;\">\n",
       "      <th></th>\n",
       "      <th>Year</th>\n",
       "      <th>UNHCR-refugees</th>\n",
       "    </tr>\n",
       "  </thead>\n",
       "  <tbody>\n",
       "    <tr>\n",
       "      <th>0</th>\n",
       "      <td>2012</td>\n",
       "      <td>163751</td>\n",
       "    </tr>\n",
       "    <tr>\n",
       "      <th>1</th>\n",
       "      <td>2013</td>\n",
       "      <td>160347</td>\n",
       "    </tr>\n",
       "    <tr>\n",
       "      <th>2</th>\n",
       "      <td>2014</td>\n",
       "      <td>149164</td>\n",
       "    </tr>\n",
       "    <tr>\n",
       "      <th>3</th>\n",
       "      <td>2022</td>\n",
       "      <td>140621</td>\n",
       "    </tr>\n",
       "    <tr>\n",
       "      <th>4</th>\n",
       "      <td>2015</td>\n",
       "      <td>135890</td>\n",
       "    </tr>\n",
       "    <tr>\n",
       "      <th>5</th>\n",
       "      <td>2021</td>\n",
       "      <td>130125</td>\n",
       "    </tr>\n",
       "    <tr>\n",
       "      <th>6</th>\n",
       "      <td>2018</td>\n",
       "      <td>114101</td>\n",
       "    </tr>\n",
       "    <tr>\n",
       "      <th>7</th>\n",
       "      <td>2020</td>\n",
       "      <td>109214</td>\n",
       "    </tr>\n",
       "    <tr>\n",
       "      <th>8</th>\n",
       "      <td>2017</td>\n",
       "      <td>104768</td>\n",
       "    </tr>\n",
       "    <tr>\n",
       "      <th>9</th>\n",
       "      <td>2019</td>\n",
       "      <td>101757</td>\n",
       "    </tr>\n",
       "    <tr>\n",
       "      <th>10</th>\n",
       "      <td>2016</td>\n",
       "      <td>97322</td>\n",
       "    </tr>\n",
       "  </tbody>\n",
       "</table>\n",
       "</div>"
      ],
      "text/plain": [
       "    Year  UNHCR-refugees\n",
       "0   2012          163751\n",
       "1   2013          160347\n",
       "2   2014          149164\n",
       "3   2022          140621\n",
       "4   2015          135890\n",
       "5   2021          130125\n",
       "6   2018          114101\n",
       "7   2020          109214\n",
       "8   2017          104768\n",
       "9   2019          101757\n",
       "10  2016           97322"
      ]
     },
     "execution_count": 33,
     "metadata": {},
     "output_type": "execute_result"
    }
   ],
   "source": [
    "# REFUGEES BY YEAR\n",
    "df_refugees_year = (df[\"UNHCR-refugees\"].groupby(by = df[\"Year\"])\n",
    "             .sum().sort_values(ascending = False)).reset_index()\n",
    "df_refugees_year"
   ]
  },
  {
   "cell_type": "code",
   "execution_count": 53,
   "id": "e68a3534",
   "metadata": {},
   "outputs": [
    {
     "data": {
      "image/png": "[encoded data removed]",
      "text/plain": [
       "<Figure size 700x300 with 1 Axes>"
      ]
     },
     "metadata": {},
     "output_type": "display_data"
    }
   ],
   "source": [
    "plt.figure(figsize = (7,3))\n",
    "sns.lineplot (data = df_refugees_year, x = \"Year\", y = \"UNHCR-refugees\",marker = \"o\", color=\"red\" )\n",
    "plt.title(\"Number of Refugees By Year\")\n",
    "plt.ylabel(\"No of Refugees\")\n",
    "plt.grid(visible = True)\n",
    "plt.xlabel(\"Year\")\n",
    "plt.xticks (rotation = 90);"
   ]
  },
  {
   "cell_type": "markdown",
   "id": "c54b5e20",
   "metadata": {},
   "source": [
    "## Question 3\n",
    " What are the countries of origin for the majority of asylum claims made in Canada?\n",
    " \n",
    " The highest asylum claim made is from an unknown country, strongly followed by Nigeria, India, Mexico and Haiti"
   ]
  },
  {
   "cell_type": "code",
   "execution_count": 42,
   "id": "ce701c32",
   "metadata": {},
   "outputs": [
    {
     "data": {
      "text/html": [
       "<div>\n",
       "<style scoped>\n",
       "    .dataframe tbody tr th:only-of-type {\n",
       "        vertical-align: middle;\n",
       "    }\n",
       "\n",
       "    .dataframe tbody tr th {\n",
       "        vertical-align: top;\n",
       "    }\n",
       "\n",
       "    .dataframe thead th {\n",
       "        text-align: right;\n",
       "    }\n",
       "</style>\n",
       "<table border=\"1\" class=\"dataframe\">\n",
       "  <thead>\n",
       "    <tr style=\"text-align: right;\">\n",
       "      <th></th>\n",
       "      <th>Country-of-origin</th>\n",
       "      <th>Asylum-seekers</th>\n",
       "    </tr>\n",
       "  </thead>\n",
       "  <tbody>\n",
       "    <tr>\n",
       "      <th>0</th>\n",
       "      <td>Unknown</td>\n",
       "      <td>56098</td>\n",
       "    </tr>\n",
       "    <tr>\n",
       "      <th>1</th>\n",
       "      <td>Nigeria</td>\n",
       "      <td>51620</td>\n",
       "    </tr>\n",
       "    <tr>\n",
       "      <th>2</th>\n",
       "      <td>India</td>\n",
       "      <td>48806</td>\n",
       "    </tr>\n",
       "    <tr>\n",
       "      <th>3</th>\n",
       "      <td>Mexico</td>\n",
       "      <td>47146</td>\n",
       "    </tr>\n",
       "    <tr>\n",
       "      <th>4</th>\n",
       "      <td>Haiti</td>\n",
       "      <td>40908</td>\n",
       "    </tr>\n",
       "    <tr>\n",
       "      <th>5</th>\n",
       "      <td>Colombia</td>\n",
       "      <td>30475</td>\n",
       "    </tr>\n",
       "    <tr>\n",
       "      <th>6</th>\n",
       "      <td>China</td>\n",
       "      <td>21526</td>\n",
       "    </tr>\n",
       "    <tr>\n",
       "      <th>7</th>\n",
       "      <td>Pakistan</td>\n",
       "      <td>19023</td>\n",
       "    </tr>\n",
       "    <tr>\n",
       "      <th>8</th>\n",
       "      <td>Türkiye</td>\n",
       "      <td>18166</td>\n",
       "    </tr>\n",
       "    <tr>\n",
       "      <th>9</th>\n",
       "      <td>Iran (Islamic Rep. of)</td>\n",
       "      <td>15011</td>\n",
       "    </tr>\n",
       "  </tbody>\n",
       "</table>\n",
       "</div>"
      ],
      "text/plain": [
       "        Country-of-origin  Asylum-seekers\n",
       "0                 Unknown           56098\n",
       "1                 Nigeria           51620\n",
       "2                   India           48806\n",
       "3                  Mexico           47146\n",
       "4                   Haiti           40908\n",
       "5                Colombia           30475\n",
       "6                   China           21526\n",
       "7                Pakistan           19023\n",
       "8                 Türkiye           18166\n",
       "9  Iran (Islamic Rep. of)           15011"
      ]
     },
     "execution_count": 42,
     "metadata": {},
     "output_type": "execute_result"
    }
   ],
   "source": [
    "# ASYLUM SEEKERS BY COUNTRY\n",
    "df_asylum = (df[\"Asylum-seekers\"].groupby(by = df[\"Country-of-origin\"])\n",
    "             .sum().sort_values(ascending = False)[0:10]).reset_index()\n",
    "df_asylum"
   ]
  },
  {
   "cell_type": "code",
   "execution_count": 46,
   "id": "40c63f10",
   "metadata": {},
   "outputs": [
    {
     "data": {
      "image/png": "[encoded data removed]",
      "text/plain": [
       "<Figure size 700x300 with 1 Axes>"
      ]
     },
     "metadata": {},
     "output_type": "display_data"
    }
   ],
   "source": [
    "plt.figure(figsize = (7,3))\n",
    "sns.barplot(data = df_asylum, x = \"Country-of-origin\", y = \"Asylum-seekers\", palette = \"mako\")\n",
    "plt.ylabel(\"Country of Origin\")\n",
    "plt.xlabel(\"No of Asylum Seekers\")\n",
    "\n",
    "addlabels(df_asylum[\"Country-of-origin\"].to_list(),df_asylum[\"Asylum-seekers\"].to_list())\n",
    "plt.title(\"Country By No of Asylum Seekers\")\n",
    "plt.xticks (rotation = 90);"
   ]
  },
  {
   "cell_type": "markdown",
   "id": "334730c5",
   "metadata": {},
   "source": [
    "## Question 4\n",
    "\n",
    "**What is the total number of asylum claims made in Canada every year?**\n"
   ]
  },
  {
   "cell_type": "code",
   "execution_count": 14,
   "id": "fe53fa6f",
   "metadata": {},
   "outputs": [
    {
     "data": {
      "text/plain": [
       "Year\n",
       "2022    113066\n",
       "2019     97017\n",
       "2020     85352\n",
       "2018     78766\n",
       "2021     63143\n",
       "2017     51859\n",
       "2012     32647\n",
       "2016     23946\n",
       "2013     22145\n",
       "2015     19631\n",
       "2014     16699\n",
       "Name: Asylum-seekers, dtype: int64"
      ]
     },
     "execution_count": 14,
     "metadata": {},
     "output_type": "execute_result"
    }
   ],
   "source": [
    "# ASYLUM SEEKERS BY YEAR\n",
    "df_asylum_year = (df[\"Asylum-seekers\"].groupby(by = df[\"Year\"])\n",
    "             .sum().sort_values(ascending = False))\n",
    "df_asylum_year"
   ]
  },
  {
   "cell_type": "code",
   "execution_count": 50,
   "id": "7fa905d9",
   "metadata": {},
   "outputs": [
    {
     "data": {
      "image/png": "[encoded data removed]",
      "text/plain": [
       "<Figure size 800x300 with 1 Axes>"
      ]
     },
     "metadata": {},
     "output_type": "display_data"
    }
   ],
   "source": [
    "plt.figure(figsize = (8,3))\n",
    "sns.lineplot (data = df_asylum_year.reset_index(), x = \"Year\", y = \"Asylum-seekers\", marker = \"o\",)\n",
    "plt.title(\"No of Asylum Seekers By Year\")\n",
    "plt.ylabel(\"No of Asylum Seekers\")\n",
    "plt.xlabel(\"Year\")\n",
    "plt.grid(visible=True)\n",
    "plt.xticks (rotation = 90);"
   ]
  },
  {
   "cell_type": "markdown",
   "id": "756e81c1",
   "metadata": {},
   "source": [
    "## Question 5\n",
    "What are the general trends in refugee and asylum statistics from 2012-2022?\n",
    "1. There is a slightly positive correlation between Number of refugees and asylum seekers, which could mean, the more the number of number of asylum seekers, the more number of refugees.\n",
    "2. There is a slightly positive correlation between year and asylum seekers, which could mean, the asylum seekers increase with year (Cell 15 above).\n"
   ]
  },
  {
   "cell_type": "code",
   "execution_count": 21,
   "id": "2409093e",
   "metadata": {},
   "outputs": [
    {
     "data": {
      "text/plain": [
       "0.27826653631264564"
      ]
     },
     "execution_count": 21,
     "metadata": {},
     "output_type": "execute_result"
    }
   ],
   "source": [
    "df[\"Asylum-seekers\"].corr(df[\"UNHCR-refugees\"])"
   ]
  },
  {
   "cell_type": "code",
   "execution_count": 22,
   "id": "38a37e8d",
   "metadata": {},
   "outputs": [
    {
     "data": {
      "text/plain": [
       "0.14423851840169538"
      ]
     },
     "execution_count": 22,
     "metadata": {},
     "output_type": "execute_result"
    }
   ],
   "source": [
    "df[\"Year\"].corr(df[\"Asylum-seekers\"])"
   ]
  },
  {
   "cell_type": "code",
   "execution_count": 23,
   "id": "eb19a889",
   "metadata": {},
   "outputs": [
    {
     "data": {
      "image/png": "[encoded data removed]",
      "text/plain": [
       "<Figure size 900x400 with 1 Axes>"
      ]
     },
     "metadata": {},
     "output_type": "display_data"
    }
   ],
   "source": [
    "plt.figure(figsize = (9,4))\n",
    "sns.lineplot(data = df, x=\"Year\", y=\"UNHCR-refugees\", label=\"UNHCR-refugees\")\n",
    "sns.lineplot(data = df, x=\"Year\", y=\"Asylum-seekers\", label=\"Asylum-seekers\")\n",
    "\n",
    "plt.title(\"General Trends of Refugees and Asylum-Seekers (2012-2022)\")\n",
    "plt.ylabel(\"Count\")\n",
    "plt.xlabel(\"Year\")\n",
    "plt.legend();"
   ]
  },
  {
   "cell_type": "code",
   "execution_count": 57,
   "id": "5935e8c1",
   "metadata": {},
   "outputs": [
    {
     "data": {
      "text/html": [
       "<div>\n",
       "<style scoped>\n",
       "    .dataframe tbody tr th:only-of-type {\n",
       "        vertical-align: middle;\n",
       "    }\n",
       "\n",
       "    .dataframe tbody tr th {\n",
       "        vertical-align: top;\n",
       "    }\n",
       "\n",
       "    .dataframe thead th {\n",
       "        text-align: right;\n",
       "    }\n",
       "</style>\n",
       "<table border=\"1\" class=\"dataframe\">\n",
       "  <thead>\n",
       "    <tr style=\"text-align: right;\">\n",
       "      <th></th>\n",
       "      <th>Country-of-origin</th>\n",
       "      <th>total-count</th>\n",
       "    </tr>\n",
       "  </thead>\n",
       "  <tbody>\n",
       "    <tr>\n",
       "      <th>35</th>\n",
       "      <td>Colombia</td>\n",
       "      <td>138891</td>\n",
       "    </tr>\n",
       "    <tr>\n",
       "      <th>33</th>\n",
       "      <td>China</td>\n",
       "      <td>120112</td>\n",
       "    </tr>\n",
       "    <tr>\n",
       "      <th>117</th>\n",
       "      <td>Nigeria</td>\n",
       "      <td>112174</td>\n",
       "    </tr>\n",
       "    <tr>\n",
       "      <th>72</th>\n",
       "      <td>Haiti</td>\n",
       "      <td>111864</td>\n",
       "    </tr>\n",
       "    <tr>\n",
       "      <th>106</th>\n",
       "      <td>Mexico</td>\n",
       "      <td>98218</td>\n",
       "    </tr>\n",
       "    <tr>\n",
       "      <th>...</th>\n",
       "      <td>...</td>\n",
       "      <td>...</td>\n",
       "    </tr>\n",
       "    <tr>\n",
       "      <th>88</th>\n",
       "      <td>Kiribati</td>\n",
       "      <td>15</td>\n",
       "    </tr>\n",
       "    <tr>\n",
       "      <th>27</th>\n",
       "      <td>Cabo Verde</td>\n",
       "      <td>10</td>\n",
       "    </tr>\n",
       "    <tr>\n",
       "      <th>98</th>\n",
       "      <td>Luxembourg</td>\n",
       "      <td>5</td>\n",
       "    </tr>\n",
       "    <tr>\n",
       "      <th>18</th>\n",
       "      <td>Bermuda</td>\n",
       "      <td>5</td>\n",
       "    </tr>\n",
       "    <tr>\n",
       "      <th>180</th>\n",
       "      <td>Western Sahara</td>\n",
       "      <td>5</td>\n",
       "    </tr>\n",
       "  </tbody>\n",
       "</table>\n",
       "<p>184 rows × 2 columns</p>\n",
       "</div>"
      ],
      "text/plain": [
       "    Country-of-origin  total-count\n",
       "35           Colombia       138891\n",
       "33              China       120112\n",
       "117           Nigeria       112174\n",
       "72              Haiti       111864\n",
       "106            Mexico        98218\n",
       "..                ...          ...\n",
       "88           Kiribati           15\n",
       "27         Cabo Verde           10\n",
       "98         Luxembourg            5\n",
       "18            Bermuda            5\n",
       "180    Western Sahara            5\n",
       "\n",
       "[184 rows x 2 columns]"
      ]
     },
     "execution_count": 57,
     "metadata": {},
     "output_type": "execute_result"
    }
   ],
   "source": [
    "top_refugee_countries = df.groupby(\"Country-of-origin\")[\"total-count\"].sum().reset_index().sort_values(\"total-count\", ascending=False)\n",
    "top_refugee_countries"
   ]
  },
  {
   "cell_type": "code",
   "execution_count": 62,
   "id": "1ee30d32",
   "metadata": {},
   "outputs": [
    {
     "data": {
      "text/html": [
       "<div>\n",
       "<style scoped>\n",
       "    .dataframe tbody tr th:only-of-type {\n",
       "        vertical-align: middle;\n",
       "    }\n",
       "\n",
       "    .dataframe tbody tr th {\n",
       "        vertical-align: top;\n",
       "    }\n",
       "\n",
       "    .dataframe thead th {\n",
       "        text-align: right;\n",
       "    }\n",
       "</style>\n",
       "<table border=\"1\" class=\"dataframe\">\n",
       "  <thead>\n",
       "    <tr style=\"text-align: right;\">\n",
       "      <th></th>\n",
       "      <th>Year</th>\n",
       "      <th>UNHCR-refugees</th>\n",
       "      <th>Asylum-seekers</th>\n",
       "    </tr>\n",
       "  </thead>\n",
       "  <tbody>\n",
       "    <tr>\n",
       "      <th>0</th>\n",
       "      <td>2012</td>\n",
       "      <td>163751</td>\n",
       "      <td>32647</td>\n",
       "    </tr>\n",
       "    <tr>\n",
       "      <th>1</th>\n",
       "      <td>2013</td>\n",
       "      <td>160347</td>\n",
       "      <td>22145</td>\n",
       "    </tr>\n",
       "    <tr>\n",
       "      <th>2</th>\n",
       "      <td>2014</td>\n",
       "      <td>149164</td>\n",
       "      <td>16699</td>\n",
       "    </tr>\n",
       "    <tr>\n",
       "      <th>3</th>\n",
       "      <td>2015</td>\n",
       "      <td>135890</td>\n",
       "      <td>19631</td>\n",
       "    </tr>\n",
       "    <tr>\n",
       "      <th>4</th>\n",
       "      <td>2016</td>\n",
       "      <td>97322</td>\n",
       "      <td>23946</td>\n",
       "    </tr>\n",
       "    <tr>\n",
       "      <th>5</th>\n",
       "      <td>2017</td>\n",
       "      <td>104768</td>\n",
       "      <td>51859</td>\n",
       "    </tr>\n",
       "    <tr>\n",
       "      <th>6</th>\n",
       "      <td>2018</td>\n",
       "      <td>114101</td>\n",
       "      <td>78766</td>\n",
       "    </tr>\n",
       "    <tr>\n",
       "      <th>7</th>\n",
       "      <td>2019</td>\n",
       "      <td>101757</td>\n",
       "      <td>97017</td>\n",
       "    </tr>\n",
       "    <tr>\n",
       "      <th>8</th>\n",
       "      <td>2020</td>\n",
       "      <td>109214</td>\n",
       "      <td>85352</td>\n",
       "    </tr>\n",
       "    <tr>\n",
       "      <th>9</th>\n",
       "      <td>2021</td>\n",
       "      <td>130125</td>\n",
       "      <td>63143</td>\n",
       "    </tr>\n",
       "    <tr>\n",
       "      <th>10</th>\n",
       "      <td>2022</td>\n",
       "      <td>140621</td>\n",
       "      <td>113066</td>\n",
       "    </tr>\n",
       "  </tbody>\n",
       "</table>\n",
       "</div>"
      ],
      "text/plain": [
       "    Year  UNHCR-refugees  Asylum-seekers\n",
       "0   2012          163751           32647\n",
       "1   2013          160347           22145\n",
       "2   2014          149164           16699\n",
       "3   2015          135890           19631\n",
       "4   2016           97322           23946\n",
       "5   2017          104768           51859\n",
       "6   2018          114101           78766\n",
       "7   2019          101757           97017\n",
       "8   2020          109214           85352\n",
       "9   2021          130125           63143\n",
       "10  2022          140621          113066"
      ]
     },
     "execution_count": 62,
     "metadata": {},
     "output_type": "execute_result"
    }
   ],
   "source": [
    "resettled_and_asylum_year=df.groupby(\"Year\")[[\"UNHCR-refugees\", \"Asylum-seekers\"]].sum().reset_index().sort_values(\"Year\")\n",
    "resettled_and_asylum_year"
   ]
  },
  {
   "cell_type": "code",
   "execution_count": 63,
   "id": "768a62c4",
   "metadata": {},
   "outputs": [
    {
     "data": {
      "text/html": [
       "<div>\n",
       "<style scoped>\n",
       "    .dataframe tbody tr th:only-of-type {\n",
       "        vertical-align: middle;\n",
       "    }\n",
       "\n",
       "    .dataframe tbody tr th {\n",
       "        vertical-align: top;\n",
       "    }\n",
       "\n",
       "    .dataframe thead th {\n",
       "        text-align: right;\n",
       "    }\n",
       "</style>\n",
       "<table border=\"1\" class=\"dataframe\">\n",
       "  <thead>\n",
       "    <tr style=\"text-align: right;\">\n",
       "      <th></th>\n",
       "      <th>Year</th>\n",
       "      <th>Category</th>\n",
       "      <th>Count</th>\n",
       "    </tr>\n",
       "  </thead>\n",
       "  <tbody>\n",
       "    <tr>\n",
       "      <th>0</th>\n",
       "      <td>2012</td>\n",
       "      <td>UNHCR-refugees</td>\n",
       "      <td>163751</td>\n",
       "    </tr>\n",
       "    <tr>\n",
       "      <th>1</th>\n",
       "      <td>2013</td>\n",
       "      <td>UNHCR-refugees</td>\n",
       "      <td>160347</td>\n",
       "    </tr>\n",
       "    <tr>\n",
       "      <th>2</th>\n",
       "      <td>2014</td>\n",
       "      <td>UNHCR-refugees</td>\n",
       "      <td>149164</td>\n",
       "    </tr>\n",
       "    <tr>\n",
       "      <th>3</th>\n",
       "      <td>2015</td>\n",
       "      <td>UNHCR-refugees</td>\n",
       "      <td>135890</td>\n",
       "    </tr>\n",
       "    <tr>\n",
       "      <th>4</th>\n",
       "      <td>2016</td>\n",
       "      <td>UNHCR-refugees</td>\n",
       "      <td>97322</td>\n",
       "    </tr>\n",
       "    <tr>\n",
       "      <th>5</th>\n",
       "      <td>2017</td>\n",
       "      <td>UNHCR-refugees</td>\n",
       "      <td>104768</td>\n",
       "    </tr>\n",
       "    <tr>\n",
       "      <th>6</th>\n",
       "      <td>2018</td>\n",
       "      <td>UNHCR-refugees</td>\n",
       "      <td>114101</td>\n",
       "    </tr>\n",
       "    <tr>\n",
       "      <th>7</th>\n",
       "      <td>2019</td>\n",
       "      <td>UNHCR-refugees</td>\n",
       "      <td>101757</td>\n",
       "    </tr>\n",
       "    <tr>\n",
       "      <th>8</th>\n",
       "      <td>2020</td>\n",
       "      <td>UNHCR-refugees</td>\n",
       "      <td>109214</td>\n",
       "    </tr>\n",
       "    <tr>\n",
       "      <th>9</th>\n",
       "      <td>2021</td>\n",
       "      <td>UNHCR-refugees</td>\n",
       "      <td>130125</td>\n",
       "    </tr>\n",
       "    <tr>\n",
       "      <th>10</th>\n",
       "      <td>2022</td>\n",
       "      <td>UNHCR-refugees</td>\n",
       "      <td>140621</td>\n",
       "    </tr>\n",
       "    <tr>\n",
       "      <th>11</th>\n",
       "      <td>2012</td>\n",
       "      <td>Asylum-seekers</td>\n",
       "      <td>32647</td>\n",
       "    </tr>\n",
       "    <tr>\n",
       "      <th>12</th>\n",
       "      <td>2013</td>\n",
       "      <td>Asylum-seekers</td>\n",
       "      <td>22145</td>\n",
       "    </tr>\n",
       "    <tr>\n",
       "      <th>13</th>\n",
       "      <td>2014</td>\n",
       "      <td>Asylum-seekers</td>\n",
       "      <td>16699</td>\n",
       "    </tr>\n",
       "    <tr>\n",
       "      <th>14</th>\n",
       "      <td>2015</td>\n",
       "      <td>Asylum-seekers</td>\n",
       "      <td>19631</td>\n",
       "    </tr>\n",
       "    <tr>\n",
       "      <th>15</th>\n",
       "      <td>2016</td>\n",
       "      <td>Asylum-seekers</td>\n",
       "      <td>23946</td>\n",
       "    </tr>\n",
       "    <tr>\n",
       "      <th>16</th>\n",
       "      <td>2017</td>\n",
       "      <td>Asylum-seekers</td>\n",
       "      <td>51859</td>\n",
       "    </tr>\n",
       "    <tr>\n",
       "      <th>17</th>\n",
       "      <td>2018</td>\n",
       "      <td>Asylum-seekers</td>\n",
       "      <td>78766</td>\n",
       "    </tr>\n",
       "    <tr>\n",
       "      <th>18</th>\n",
       "      <td>2019</td>\n",
       "      <td>Asylum-seekers</td>\n",
       "      <td>97017</td>\n",
       "    </tr>\n",
       "    <tr>\n",
       "      <th>19</th>\n",
       "      <td>2020</td>\n",
       "      <td>Asylum-seekers</td>\n",
       "      <td>85352</td>\n",
       "    </tr>\n",
       "    <tr>\n",
       "      <th>20</th>\n",
       "      <td>2021</td>\n",
       "      <td>Asylum-seekers</td>\n",
       "      <td>63143</td>\n",
       "    </tr>\n",
       "    <tr>\n",
       "      <th>21</th>\n",
       "      <td>2022</td>\n",
       "      <td>Asylum-seekers</td>\n",
       "      <td>113066</td>\n",
       "    </tr>\n",
       "  </tbody>\n",
       "</table>\n",
       "</div>"
      ],
      "text/plain": [
       "    Year        Category   Count\n",
       "0   2012  UNHCR-refugees  163751\n",
       "1   2013  UNHCR-refugees  160347\n",
       "2   2014  UNHCR-refugees  149164\n",
       "3   2015  UNHCR-refugees  135890\n",
       "4   2016  UNHCR-refugees   97322\n",
       "5   2017  UNHCR-refugees  104768\n",
       "6   2018  UNHCR-refugees  114101\n",
       "7   2019  UNHCR-refugees  101757\n",
       "8   2020  UNHCR-refugees  109214\n",
       "9   2021  UNHCR-refugees  130125\n",
       "10  2022  UNHCR-refugees  140621\n",
       "11  2012  Asylum-seekers   32647\n",
       "12  2013  Asylum-seekers   22145\n",
       "13  2014  Asylum-seekers   16699\n",
       "14  2015  Asylum-seekers   19631\n",
       "15  2016  Asylum-seekers   23946\n",
       "16  2017  Asylum-seekers   51859\n",
       "17  2018  Asylum-seekers   78766\n",
       "18  2019  Asylum-seekers   97017\n",
       "19  2020  Asylum-seekers   85352\n",
       "20  2021  Asylum-seekers   63143\n",
       "21  2022  Asylum-seekers  113066"
      ]
     },
     "execution_count": 63,
     "metadata": {},
     "output_type": "execute_result"
    }
   ],
   "source": [
    "melted_data = pd.melt(resettled_and_asylum_year, id_vars = [\"Year\"], var_name = \"Category\", value_name = \"Count\")\n",
    "melted_data"
   ]
  },
  {
   "cell_type": "code",
   "execution_count": 69,
   "id": "7e5fce40",
   "metadata": {},
   "outputs": [
    {
     "data": {
      "image/png": "[encoded data removed]",
      "text/plain": [
       "<Figure size 800x400 with 1 Axes>"
      ]
     },
     "metadata": {},
     "output_type": "display_data"
    }
   ],
   "source": [
    "plt.figure(figsize = (8,4))\n",
    "sns.barplot(data = melted_data, x = \"Year\", y = \"Count\", hue= \"Category\", palette = \"mako\")\n",
    "plt.ylabel(\"Year\")\n",
    "plt.xlabel(\"Total Count\")\n",
    "\n",
    "plt.title(\"Total Refugees and Asylum Seekers Per Year\")\n",
    "plt.xticks (rotation = 90);"
   ]
  },
  {
   "cell_type": "code",
   "execution_count": null,
   "id": "a600fa69",
   "metadata": {},
   "outputs": [],
   "source": []
  }
 ],
 "metadata": {
  "kernelspec": {
   "display_name": "Python 3 (ipykernel)",
   "language": "python",
   "name": "python3"
  },
  "language_info": {
   "codemirror_mode": {
    "name": "ipython",
    "version": 3
   },
   "file_extension": ".py",
   "mimetype": "text/x-python",
   "name": "python",
   "nbconvert_exporter": "python",
   "pygments_lexer": "ipython3",
   "version": "3.10.9"
  }
 },
 "nbformat": 4,
 "nbformat_minor": 5
}
